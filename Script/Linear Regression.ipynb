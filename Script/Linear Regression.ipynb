{
 "cells": [
  {
   "cell_type": "markdown",
   "metadata": {
    "id": "4hCIh8Tzxf4O"
   },
   "source": [
    "# Libraries and data"
   ]
  },
  {
   "cell_type": "code",
   "execution_count": 2,
   "metadata": {
    "executionInfo": {
     "elapsed": 3433,
     "status": "ok",
     "timestamp": 1683103465314,
     "user": {
      "displayName": "Diogo Resende",
      "userId": "05706604408624562002"
     },
     "user_tz": -120
    },
    "id": "u9kbzzchxrLs"
   },
   "outputs": [],
   "source": [
    "#libraries\n",
    "import statsmodels.api as sm \n",
    "import matplotlib.pyplot as plt \n",
    "import numpy as np\n",
    "import pandas as pd"
   ]
  },
  {
   "cell_type": "code",
   "execution_count": 3,
   "metadata": {
    "colab": {
     "base_uri": "https://localhost:8080/",
     "height": 206
    },
    "executionInfo": {
     "elapsed": 19,
     "status": "ok",
     "timestamp": 1683103465315,
     "user": {
      "displayName": "Diogo Resende",
      "userId": "05706604408624562002"
     },
     "user_tz": -120
    },
    "id": "FeaEX6oUx483",
    "outputId": "ac92bc12-e028-4308-8d81-9e8975dcdc91"
   },
   "outputs": [
    {
     "data": {
      "application/vnd.microsoft.datawrangler.viewer.v0+json": {
       "columns": [
        {
         "name": "index",
         "rawType": "int64",
         "type": "integer"
        },
        {
         "name": "Unnamed: 0",
         "rawType": "int64",
         "type": "integer"
        },
        {
         "name": "carat",
         "rawType": "float64",
         "type": "float"
        },
        {
         "name": "colour",
         "rawType": "object",
         "type": "string"
        },
        {
         "name": "clarity",
         "rawType": "object",
         "type": "string"
        },
        {
         "name": "certification",
         "rawType": "object",
         "type": "string"
        },
        {
         "name": "price",
         "rawType": "int64",
         "type": "integer"
        }
       ],
       "ref": "1ced21e0-aff6-449d-a8f8-30006d72990f",
       "rows": [
        [
         "0",
         "1",
         "0.3",
         "D",
         "VS2",
         "GIA",
         "1302"
        ],
        [
         "1",
         "2",
         "0.3",
         "E",
         "VS1",
         "GIA",
         "1510"
        ],
        [
         "2",
         "3",
         "0.3",
         "G",
         "VVS1",
         "GIA",
         "1510"
        ],
        [
         "3",
         "4",
         "0.3",
         "G",
         "VS1",
         "GIA",
         "1260"
        ],
        [
         "4",
         "5",
         "0.31",
         "D",
         "VS1",
         "GIA",
         "1641"
        ]
       ],
       "shape": {
        "columns": 6,
        "rows": 5
       }
      },
      "text/html": [
       "<div>\n",
       "<style scoped>\n",
       "    .dataframe tbody tr th:only-of-type {\n",
       "        vertical-align: middle;\n",
       "    }\n",
       "\n",
       "    .dataframe tbody tr th {\n",
       "        vertical-align: top;\n",
       "    }\n",
       "\n",
       "    .dataframe thead th {\n",
       "        text-align: right;\n",
       "    }\n",
       "</style>\n",
       "<table border=\"1\" class=\"dataframe\">\n",
       "  <thead>\n",
       "    <tr style=\"text-align: right;\">\n",
       "      <th></th>\n",
       "      <th>Unnamed: 0</th>\n",
       "      <th>carat</th>\n",
       "      <th>colour</th>\n",
       "      <th>clarity</th>\n",
       "      <th>certification</th>\n",
       "      <th>price</th>\n",
       "    </tr>\n",
       "  </thead>\n",
       "  <tbody>\n",
       "    <tr>\n",
       "      <th>0</th>\n",
       "      <td>1</td>\n",
       "      <td>0.30</td>\n",
       "      <td>D</td>\n",
       "      <td>VS2</td>\n",
       "      <td>GIA</td>\n",
       "      <td>1302</td>\n",
       "    </tr>\n",
       "    <tr>\n",
       "      <th>1</th>\n",
       "      <td>2</td>\n",
       "      <td>0.30</td>\n",
       "      <td>E</td>\n",
       "      <td>VS1</td>\n",
       "      <td>GIA</td>\n",
       "      <td>1510</td>\n",
       "    </tr>\n",
       "    <tr>\n",
       "      <th>2</th>\n",
       "      <td>3</td>\n",
       "      <td>0.30</td>\n",
       "      <td>G</td>\n",
       "      <td>VVS1</td>\n",
       "      <td>GIA</td>\n",
       "      <td>1510</td>\n",
       "    </tr>\n",
       "    <tr>\n",
       "      <th>3</th>\n",
       "      <td>4</td>\n",
       "      <td>0.30</td>\n",
       "      <td>G</td>\n",
       "      <td>VS1</td>\n",
       "      <td>GIA</td>\n",
       "      <td>1260</td>\n",
       "    </tr>\n",
       "    <tr>\n",
       "      <th>4</th>\n",
       "      <td>5</td>\n",
       "      <td>0.31</td>\n",
       "      <td>D</td>\n",
       "      <td>VS1</td>\n",
       "      <td>GIA</td>\n",
       "      <td>1641</td>\n",
       "    </tr>\n",
       "  </tbody>\n",
       "</table>\n",
       "</div>"
      ],
      "text/plain": [
       "   Unnamed: 0  carat colour clarity certification  price\n",
       "0           1   0.30      D     VS2           GIA   1302\n",
       "1           2   0.30      E     VS1           GIA   1510\n",
       "2           3   0.30      G    VVS1           GIA   1510\n",
       "3           4   0.30      G     VS1           GIA   1260\n",
       "4           5   0.31      D     VS1           GIA   1641"
      ]
     },
     "execution_count": 3,
     "metadata": {},
     "output_type": "execute_result"
    }
   ],
   "source": [
    "#Load the data\n",
    "df = pd.read_csv(\"diamond.csv\")\n",
    "df.head()"
   ]
  },
  {
   "cell_type": "markdown",
   "metadata": {
    "id": "V1MylQWIyjY9"
   },
   "source": [
    "# Data preparation"
   ]
  },
  {
   "cell_type": "code",
   "execution_count": 4,
   "metadata": {
    "executionInfo": {
     "elapsed": 18,
     "status": "ok",
     "timestamp": 1683103465316,
     "user": {
      "displayName": "Diogo Resende",
      "userId": "05706604408624562002"
     },
     "user_tz": -120
    },
    "id": "IdURH4YOymLG"
   },
   "outputs": [],
   "source": [
    "#isolate X and Y\n",
    "y = df.price\n",
    "X = df.carat"
   ]
  },
  {
   "cell_type": "code",
   "execution_count": 5,
   "metadata": {
    "colab": {
     "base_uri": "https://localhost:8080/",
     "height": 112
    },
    "executionInfo": {
     "elapsed": 18,
     "status": "ok",
     "timestamp": 1683103465317,
     "user": {
      "displayName": "Diogo Resende",
      "userId": "05706604408624562002"
     },
     "user_tz": -120
    },
    "id": "ouB_mxJ4zU6C",
    "outputId": "f3f78a07-cd55-434c-b2ae-4fab64b2d154"
   },
   "outputs": [
    {
     "data": {
      "application/vnd.microsoft.datawrangler.viewer.v0+json": {
       "columns": [
        {
         "name": "index",
         "rawType": "int64",
         "type": "integer"
        },
        {
         "name": "const",
         "rawType": "float64",
         "type": "float"
        },
        {
         "name": "carat",
         "rawType": "float64",
         "type": "float"
        }
       ],
       "ref": "b15f28a3-5f3c-4ba4-b620-0299f57e364c",
       "rows": [
        [
         "0",
         "1.0",
         "0.3"
        ],
        [
         "1",
         "1.0",
         "0.3"
        ]
       ],
       "shape": {
        "columns": 2,
        "rows": 2
       }
      },
      "text/html": [
       "<div>\n",
       "<style scoped>\n",
       "    .dataframe tbody tr th:only-of-type {\n",
       "        vertical-align: middle;\n",
       "    }\n",
       "\n",
       "    .dataframe tbody tr th {\n",
       "        vertical-align: top;\n",
       "    }\n",
       "\n",
       "    .dataframe thead th {\n",
       "        text-align: right;\n",
       "    }\n",
       "</style>\n",
       "<table border=\"1\" class=\"dataframe\">\n",
       "  <thead>\n",
       "    <tr style=\"text-align: right;\">\n",
       "      <th></th>\n",
       "      <th>const</th>\n",
       "      <th>carat</th>\n",
       "    </tr>\n",
       "  </thead>\n",
       "  <tbody>\n",
       "    <tr>\n",
       "      <th>0</th>\n",
       "      <td>1.0</td>\n",
       "      <td>0.3</td>\n",
       "    </tr>\n",
       "    <tr>\n",
       "      <th>1</th>\n",
       "      <td>1.0</td>\n",
       "      <td>0.3</td>\n",
       "    </tr>\n",
       "  </tbody>\n",
       "</table>\n",
       "</div>"
      ],
      "text/plain": [
       "   const  carat\n",
       "0    1.0    0.3\n",
       "1    1.0    0.3"
      ]
     },
     "execution_count": 5,
     "metadata": {},
     "output_type": "execute_result"
    }
   ],
   "source": [
    "#Adding constant\n",
    "X = sm.add_constant(X)\n",
    "X.head(2)"
   ]
  },
  {
   "cell_type": "markdown",
   "metadata": {
    "id": "ljp8PW8A6o-g"
   },
   "source": [
    "# Linear Regression"
   ]
  },
  {
   "cell_type": "code",
   "execution_count": 6,
   "metadata": {
    "colab": {
     "base_uri": "https://localhost:8080/"
    },
    "executionInfo": {
     "elapsed": 18,
     "status": "ok",
     "timestamp": 1683103465318,
     "user": {
      "displayName": "Diogo Resende",
      "userId": "05706604408624562002"
     },
     "user_tz": -120
    },
    "id": "inif20L66sPo",
    "outputId": "14a19abe-faeb-49b7-ebbd-e1b2f4616783"
   },
   "outputs": [
    {
     "name": "stdout",
     "output_type": "stream",
     "text": [
      "                            OLS Regression Results                            \n",
      "==============================================================================\n",
      "Dep. Variable:                  price   R-squared:                       0.893\n",
      "Model:                            OLS   Adj. R-squared:                  0.892\n",
      "Method:                 Least Squares   F-statistic:                     2541.\n",
      "Date:                Wed, 16 Jul 2025   Prob (F-statistic):          3.04e-150\n",
      "Time:                        04:26:52   Log-Likelihood:                -2597.9\n",
      "No. Observations:                 308   AIC:                             5200.\n",
      "Df Residuals:                     306   BIC:                             5207.\n",
      "Df Model:                           1                                         \n",
      "Covariance Type:            nonrobust                                         \n",
      "==============================================================================\n",
      "                 coef    std err          t      P>|t|      [0.025      0.975]\n",
      "------------------------------------------------------------------------------\n",
      "const      -2298.3576    158.531    -14.498      0.000   -2610.306   -1986.410\n",
      "carat        1.16e+04    230.111     50.406      0.000    1.11e+04    1.21e+04\n",
      "==============================================================================\n",
      "Omnibus:                      170.301   Durbin-Watson:                   1.216\n",
      "Prob(Omnibus):                  0.000   Jarque-Bera (JB):             1324.411\n",
      "Skew:                           2.168   Prob(JB):                    2.56e-288\n",
      "Kurtosis:                      12.187   Cond. No.                         5.13\n",
      "==============================================================================\n",
      "\n",
      "Notes:\n",
      "[1] Standard Errors assume that the covariance matrix of the errors is correctly specified.\n"
     ]
    }
   ],
   "source": [
    "#Regression model\n",
    "model1 = sm.OLS(endog = y, exog = X).fit()\n",
    "print(model1.summary())"
   ]
  },
  {
   "cell_type": "code",
   "execution_count": 7,
   "metadata": {
    "colab": {
     "base_uri": "https://localhost:8080/",
     "height": 466
    },
    "executionInfo": {
     "elapsed": 588,
     "status": "ok",
     "timestamp": 1683103465891,
     "user": {
      "displayName": "Diogo Resende",
      "userId": "05706604408624562002"
     },
     "user_tz": -120
    },
    "id": "xAVLr47h8qiT",
    "outputId": "e1be6390-06ff-4b34-9641-c29d3b8ed215"
   },
   "outputs": [
    {
     "data": {
      "text/plain": [
       "Text(0, 0.5, 'Price')"
      ]
     },
     "execution_count": 7,
     "metadata": {},
     "output_type": "execute_result"
    },
    {
     "data": {
      "image/png": "[encoded data removed]",
      "text/plain": [
       "<Figure size 640x480 with 1 Axes>"
      ]
     },
     "metadata": {},
     "output_type": "display_data"
    }
   ],
   "source": [
    "#plotting\n",
    "X = df.carat\n",
    "plt.plot(X, y, 'o')\n",
    "b, a = np.polyfit(X, y, 1)\n",
    "plt.plot(X, b * X + a)\n",
    "plt.xlabel(\"Carat\")\n",
    "plt.ylabel(\"Price\")"
   ]
  },
  {
   "cell_type": "markdown",
   "metadata": {
    "id": "KQ4St6p1_k8L"
   },
   "source": [
    "# Linear Regression with dummy variable"
   ]
  },
  {
   "cell_type": "code",
   "execution_count": 8,
   "metadata": {
    "colab": {
     "base_uri": "https://localhost:8080/"
    },
    "executionInfo": {
     "elapsed": 27,
     "status": "ok",
     "timestamp": 1683103465892,
     "user": {
      "displayName": "Diogo Resende",
      "userId": "05706604408624562002"
     },
     "user_tz": -120
    },
    "id": "OsMXQ7TB_tpS",
    "outputId": "540c2999-78f7-4cbf-d593-59834e0b9c27"
   },
   "outputs": [
    {
     "data": {
      "application/vnd.microsoft.datawrangler.viewer.v0+json": {
       "columns": [
        {
         "name": "index",
         "rawType": "object",
         "type": "string"
        },
        {
         "name": "carat",
         "rawType": "float64",
         "type": "float"
        }
       ],
       "ref": "960945e5-e5ae-4915-87d2-d2fee339353a",
       "rows": [
        [
         "count",
         "308.0"
        ],
        [
         "mean",
         "0.6309090909090909"
        ],
        [
         "std",
         "0.2771830464152124"
        ],
        [
         "min",
         "0.18"
        ],
        [
         "25%",
         "0.35"
        ],
        [
         "50%",
         "0.62"
        ],
        [
         "75%",
         "0.85"
        ],
        [
         "max",
         "1.1"
        ]
       ],
       "shape": {
        "columns": 1,
        "rows": 8
       }
      },
      "text/plain": [
       "count    308.000000\n",
       "mean       0.630909\n",
       "std        0.277183\n",
       "min        0.180000\n",
       "25%        0.350000\n",
       "50%        0.620000\n",
       "75%        0.850000\n",
       "max        1.100000\n",
       "Name: carat, dtype: float64"
      ]
     },
     "execution_count": 8,
     "metadata": {},
     "output_type": "execute_result"
    }
   ],
   "source": [
    "#look at carat variable\n",
    "df.carat.describe()"
   ]
  },
  {
   "cell_type": "code",
   "execution_count": 9,
   "metadata": {
    "colab": {
     "base_uri": "https://localhost:8080/",
     "height": 143
    },
    "executionInfo": {
     "elapsed": 20,
     "status": "ok",
     "timestamp": 1683103465893,
     "user": {
      "displayName": "Diogo Resende",
      "userId": "05706604408624562002"
     },
     "user_tz": -120
    },
    "id": "4Sv9W6tx_9rC",
    "outputId": "fcbf2311-bf9a-4e93-b92c-1b61eec01831"
   },
   "outputs": [
    {
     "data": {
      "application/vnd.microsoft.datawrangler.viewer.v0+json": {
       "columns": [
        {
         "name": "index",
         "rawType": "int64",
         "type": "integer"
        },
        {
         "name": "Unnamed: 0",
         "rawType": "int64",
         "type": "integer"
        },
        {
         "name": "carat",
         "rawType": "float64",
         "type": "float"
        },
        {
         "name": "colour",
         "rawType": "object",
         "type": "string"
        },
        {
         "name": "clarity",
         "rawType": "object",
         "type": "string"
        },
        {
         "name": "certification",
         "rawType": "object",
         "type": "string"
        },
        {
         "name": "price",
         "rawType": "int64",
         "type": "integer"
        },
        {
         "name": "carat_binary",
         "rawType": "int64",
         "type": "integer"
        }
       ],
       "ref": "bceecf90-f82f-4bc2-8b99-4102b4c64c38",
       "rows": [
        [
         "0",
         "1",
         "0.3",
         "D",
         "VS2",
         "GIA",
         "1302",
         "0"
        ],
        [
         "1",
         "2",
         "0.3",
         "E",
         "VS1",
         "GIA",
         "1510",
         "0"
        ],
        [
         "2",
         "3",
         "0.3",
         "G",
         "VVS1",
         "GIA",
         "1510",
         "0"
        ]
       ],
       "shape": {
        "columns": 7,
        "rows": 3
       }
      },
      "text/html": [
       "<div>\n",
       "<style scoped>\n",
       "    .dataframe tbody tr th:only-of-type {\n",
       "        vertical-align: middle;\n",
       "    }\n",
       "\n",
       "    .dataframe tbody tr th {\n",
       "        vertical-align: top;\n",
       "    }\n",
       "\n",
       "    .dataframe thead th {\n",
       "        text-align: right;\n",
       "    }\n",
       "</style>\n",
       "<table border=\"1\" class=\"dataframe\">\n",
       "  <thead>\n",
       "    <tr style=\"text-align: right;\">\n",
       "      <th></th>\n",
       "      <th>Unnamed: 0</th>\n",
       "      <th>carat</th>\n",
       "      <th>colour</th>\n",
       "      <th>clarity</th>\n",
       "      <th>certification</th>\n",
       "      <th>price</th>\n",
       "      <th>carat_binary</th>\n",
       "    </tr>\n",
       "  </thead>\n",
       "  <tbody>\n",
       "    <tr>\n",
       "      <th>0</th>\n",
       "      <td>1</td>\n",
       "      <td>0.3</td>\n",
       "      <td>D</td>\n",
       "      <td>VS2</td>\n",
       "      <td>GIA</td>\n",
       "      <td>1302</td>\n",
       "      <td>0</td>\n",
       "    </tr>\n",
       "    <tr>\n",
       "      <th>1</th>\n",
       "      <td>2</td>\n",
       "      <td>0.3</td>\n",
       "      <td>E</td>\n",
       "      <td>VS1</td>\n",
       "      <td>GIA</td>\n",
       "      <td>1510</td>\n",
       "      <td>0</td>\n",
       "    </tr>\n",
       "    <tr>\n",
       "      <th>2</th>\n",
       "      <td>3</td>\n",
       "      <td>0.3</td>\n",
       "      <td>G</td>\n",
       "      <td>VVS1</td>\n",
       "      <td>GIA</td>\n",
       "      <td>1510</td>\n",
       "      <td>0</td>\n",
       "    </tr>\n",
       "  </tbody>\n",
       "</table>\n",
       "</div>"
      ],
      "text/plain": [
       "   Unnamed: 0  carat colour clarity certification  price  carat_binary\n",
       "0           1    0.3      D     VS2           GIA   1302             0\n",
       "1           2    0.3      E     VS1           GIA   1510             0\n",
       "2           3    0.3      G    VVS1           GIA   1510             0"
      ]
     },
     "execution_count": 9,
     "metadata": {},
     "output_type": "execute_result"
    }
   ],
   "source": [
    "#create binary variable\n",
    "df[\"carat_binary\"] = np.where(df.carat > 0.6, 1, 0)\n",
    "df.head(3)"
   ]
  },
  {
   "cell_type": "markdown",
   "metadata": {
    "id": "L51Ow_bdAQc-"
   },
   "source": [
    "# linear Regression with binary variable and plot"
   ]
  },
  {
   "cell_type": "code",
   "execution_count": 10,
   "metadata": {
    "executionInfo": {
     "elapsed": 6,
     "status": "ok",
     "timestamp": 1683103468197,
     "user": {
      "displayName": "Diogo Resende",
      "userId": "05706604408624562002"
     },
     "user_tz": -120
    },
    "id": "KF-KL67-AtbX"
   },
   "outputs": [],
   "source": [
    "#isolate x and y\n",
    "X = df.carat_binary\n",
    "y = df.price"
   ]
  },
  {
   "cell_type": "code",
   "execution_count": 11,
   "metadata": {
    "executionInfo": {
     "elapsed": 5,
     "status": "ok",
     "timestamp": 1683103468197,
     "user": {
      "displayName": "Diogo Resende",
      "userId": "05706604408624562002"
     },
     "user_tz": -120
    },
    "id": "F7-XJQOIA5RH"
   },
   "outputs": [],
   "source": [
    "#add constant\n",
    "X = sm.add_constant(X)"
   ]
  },
  {
   "cell_type": "code",
   "execution_count": 12,
   "metadata": {
    "colab": {
     "base_uri": "https://localhost:8080/"
    },
    "executionInfo": {
     "elapsed": 6,
     "status": "ok",
     "timestamp": 1683103468198,
     "user": {
      "displayName": "Diogo Resende",
      "userId": "05706604408624562002"
     },
     "user_tz": -120
    },
    "id": "J5y_gIxDA-Ft",
    "outputId": "edee8c00-baca-465e-c25f-3c0a93eb196c"
   },
   "outputs": [
    {
     "name": "stdout",
     "output_type": "stream",
     "text": [
      "                            OLS Regression Results                            \n",
      "==============================================================================\n",
      "Dep. Variable:                  price   R-squared:                       0.659\n",
      "Model:                            OLS   Adj. R-squared:                  0.658\n",
      "Method:                 Least Squares   F-statistic:                     591.5\n",
      "Date:                Wed, 16 Jul 2025   Prob (F-statistic):           1.79e-73\n",
      "Time:                        04:27:43   Log-Likelihood:                -2775.6\n",
      "No. Observations:                 308   AIC:                             5555.\n",
      "Df Residuals:                     306   BIC:                             5563.\n",
      "Df Model:                           1                                         \n",
      "Covariance Type:            nonrobust                                         \n",
      "================================================================================\n",
      "                   coef    std err          t      P>|t|      [0.025      0.975]\n",
      "--------------------------------------------------------------------------------\n",
      "const         2225.2303    161.442     13.783      0.000    1907.553    2542.908\n",
      "carat_binary  5516.8595    226.846     24.320      0.000    5070.485    5963.234\n",
      "==============================================================================\n",
      "Omnibus:                       33.053   Durbin-Watson:                   0.504\n",
      "Prob(Omnibus):                  0.000   Jarque-Bera (JB):               48.667\n",
      "Skew:                           0.698   Prob(JB):                     2.70e-11\n",
      "Kurtosis:                       4.358   Cond. No.                         2.63\n",
      "==============================================================================\n",
      "\n",
      "Notes:\n",
      "[1] Standard Errors assume that the covariance matrix of the errors is correctly specified.\n"
     ]
    }
   ],
   "source": [
    "#Linear Regression\n",
    "model2 = sm.OLS(endog = y, exog = X).fit()\n",
    "print(model2.summary())"
   ]
  },
  {
   "cell_type": "code",
   "execution_count": 13,
   "metadata": {
    "colab": {
     "base_uri": "https://localhost:8080/",
     "height": 466
    },
    "executionInfo": {
     "elapsed": 1761,
     "status": "ok",
     "timestamp": 1683103472065,
     "user": {
      "displayName": "Diogo Resende",
      "userId": "05706604408624562002"
     },
     "user_tz": -120
    },
    "id": "nZrK0GoSBjtU",
    "outputId": "628487f4-cfbb-449b-bb03-84dd527c015f"
   },
   "outputs": [
    {
     "data": {
      "text/plain": [
       "Text(0, 0.5, 'Price')"
      ]
     },
     "execution_count": 13,
     "metadata": {},
     "output_type": "execute_result"
    },
    {
     "data": {
      "image/png": "[encoded data removed]",
      "text/plain": [
       "<Figure size 640x480 with 1 Axes>"
      ]
     },
     "metadata": {},
     "output_type": "display_data"
    }
   ],
   "source": [
    "#plot\n",
    "X = df.carat_binary\n",
    "plt.plot(X, y, 'o')\n",
    "b, a = np.polyfit(X, y, 1)\n",
    "plt.plot(X, b * X + a)\n",
    "plt.xlabel(\"Carat above 0.6\")\n",
    "plt.ylabel(\"Price\")"
   ]
  },
  {
   "cell_type": "code",
   "execution_count": null,
   "metadata": {},
   "outputs": [],
   "source": []
  }
 ],
 "metadata": {
  "colab": {
   "authorship_tag": "ABX9TyPHpjsMgLXW7fWsCC9vBj2I",
   "mount_file_id": "1AupyMshTUxGKziT5glOlUa3L85Jix_GB",
   "provenance": []
  },
  "kernelspec": {
   "display_name": "Python 3",
   "name": "python3"
  },
  "language_info": {
   "codemirror_mode": {
    "name": "ipython",
    "version": 3
   },
   "file_extension": ".py",
   "mimetype": "text/x-python",
   "name": "python",
   "nbconvert_exporter": "python",
   "pygments_lexer": "ipython3",
   "version": "3.13.2"
  }
 },
 "nbformat": 4,
 "nbformat_minor": 0
}
